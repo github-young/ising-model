{
 "cells": [
  {
   "cell_type": "code",
   "execution_count": 3,
   "metadata": {},
   "outputs": [],
   "source": [
    "import numpy as np\n",
    "import math\n",
    "import matplotlib.pyplot as pl\n",
    "pl.style.use(['science', 'no-latex'])\n",
    "\n",
    "## Data Input\n",
    "size = 100\n",
    "iteration = 1000000\n",
    "fileName = \"ESCM-T-size\"+str(size)+\"-iter\"+str(iteration)\n",
    "# dataFileName = \"data-ESCM-T-Init-r-size\"+str(size)+\"-iter\"+str(iteration)+\".csv\"\n",
    "dataFileName = \"../data/data-\"+fileName+\".csv\"\n",
    "data = np.loadtxt(dataFileName, delimiter=',')\n",
    "\n",
    "# Sintegral = []\n",
    "# for i in range(len(data[3])):\n",
    "#     Sintegral += [np.trapz(y=np.divide(data[3], data[0])[:i], x=data[0][:i])]\n",
    "# Sintegral = np.array(Sintegral)\n",
    "    \n",
    "## Plot\n",
    "axName = [\"Energy\",\"Entropy\",\"Specific heat\",\"Magnaetization\"]\n",
    "colors = ['red', 'green', 'blue', 'brown']\n",
    "\n",
    "fig, ax = pl.subplots(nrows=2, ncols=2, figsize=[8,4], dpi=300)\n",
    "fig.tight_layout(rect=[0, 0, 1, 0.98])\n",
    "ax = ax.flatten()\n",
    "\n",
    "fig.suptitle(\"Ising model with size=%dx%d, iteration=%d\" %(size, size, iteration))\n",
    "\n",
    "ax[0].set_ylim([-8.2,0.1])\n",
    "ax[1].set_ylim([-0.05,0.75])\n",
    "ax[1].axhline(y=np.log(2), xmin=0.05, xmax=0.95, linestyle=':', color='red', label=\"ln2\")\n",
    "# ax[2].plot(data[0], np.divide(data[3], data[0]), '.', markersize=2, label='divide')\n",
    "# ax[1].plot(data[0], Sintegral, '-', label=r'S=$\\int\\frac{C}{T}$dT')\n",
    "for i in range(0, 4):\n",
    "    ax[i].plot(data[0], data[i+1], '.', color=colors[i], markersize=2, label=axName[i])\n",
    "    ax[i].axvline(x=2.0/np.log(1+np.sqrt(2)), ymin=0.05, ymax=0.95, color='black', linestyle='--', label='$T_c=%.3f$' %(2.0/np.log(1+np.sqrt(2))))\n",
    "    ax[i].grid()\n",
    "    ax[i].legend(loc='best', fontsize=10)\n",
    "\n",
    "\n",
    "# fig.show()\n",
    "figName = fileName\n",
    "fig.savefig(figName+\".pdf\", bbox_inches='tight', pad_inches=0, dpi=300)\n",
    "fig.savefig(figName+\".png\", bbox_inches='tight', pad_inches=0, dpi=300)\n",
    "pl.close()"
   ]
  },
  {
   "cell_type": "code",
   "execution_count": null,
   "metadata": {},
   "outputs": [],
   "source": []
  }
 ],
 "metadata": {
  "kernelspec": {
   "display_name": "Python 3",
   "language": "python",
   "name": "python3"
  },
  "language_info": {
   "codemirror_mode": {
    "name": "ipython",
    "version": 3
   },
   "file_extension": ".py",
   "mimetype": "text/x-python",
   "name": "python",
   "nbconvert_exporter": "python",
   "pygments_lexer": "ipython3",
   "version": "3.9.2"
  }
 },
 "nbformat": 4,
 "nbformat_minor": 4
}
