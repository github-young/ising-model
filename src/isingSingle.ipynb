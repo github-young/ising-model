{
 "cells": [
  {
   "cell_type": "code",
   "execution_count": 40,
   "metadata": {
    "scrolled": false
   },
   "outputs": [
    {
     "data": {
      "application/vnd.jupyter.widget-view+json": {
       "model_id": "967609ea090a418380a935ea2dd3fb51",
       "version_major": 2,
       "version_minor": 0
      },
      "text/plain": [
       "  0%|          | 0/500000 [00:00<?, ?it/s]"
      ]
     },
     "metadata": {},
     "output_type": "display_data"
    },
    {
     "data": {
      "application/vnd.jupyter.widget-view+json": {
       "model_id": "cd6c88e37eef46b090ccbfe2f75a05d8",
       "version_major": 2,
       "version_minor": 0
      },
      "text/plain": [
       "  0%|          | 0/500000 [00:00<?, ?it/s]"
      ]
     },
     "metadata": {},
     "output_type": "display_data"
    },
    {
     "data": {
      "application/vnd.jupyter.widget-view+json": {
       "model_id": "062027a298fb4c59b989fb7237d99815",
       "version_major": 2,
       "version_minor": 0
      },
      "text/plain": [
       "  0%|          | 0/500000 [00:00<?, ?it/s]"
      ]
     },
     "metadata": {},
     "output_type": "display_data"
    }
   ],
   "source": [
    "import numpy as np\n",
    "import math\n",
    "from scipy.special import comb\n",
    "import matplotlib.pyplot as plt\n",
    "from tqdm.notebook import tqdm\n",
    "# from tqdm import tqdm\n",
    "plt.style.use(['science', 'no-latex'])\n",
    "\n",
    "class IsingLattice:\n",
    "\n",
    "    def __init__(self, temperature, initial_state, size):\n",
    "        self.size = size\n",
    "        self.T = temperature\n",
    "        self.system = self._build_system(initial_state)\n",
    "\n",
    "    @property\n",
    "    def sqr_size(self):\n",
    "        return (self.size, self.size)\n",
    "\n",
    "    def _build_system(self, initial_state):\n",
    "        if initial_state == 'r':\n",
    "            system = np.random.choice([-1, 1], self.sqr_size)\n",
    "        elif initial_state == 'u':\n",
    "            system = np.ones(self.sqr_size)\n",
    "        else:\n",
    "            raise ValueError(\n",
    "                \"Initial State must be 'r', random, or 'u', uniform\"\n",
    "            )\n",
    "\n",
    "        return system\n",
    "\n",
    "    def _bc(self, i):\n",
    "        if i >= self.size:\n",
    "            return 0\n",
    "        if i < 0:\n",
    "            return self.size - 1\n",
    "        else:\n",
    "            return i\n",
    "\n",
    "    def energy(self, N, M):\n",
    "        return -2*self.system[N, M]*(\n",
    "            self.system[self._bc(N - 1), M] + self.system[self._bc(N + 1), M]\n",
    "            + self.system[N, self._bc(M - 1)] + self.system[N, self._bc(M + 1)]\n",
    "        )\n",
    "\n",
    "    @property\n",
    "    def internal_energy(self):\n",
    "        e = 0\n",
    "        E = 0\n",
    "        E_2 = 0\n",
    "\n",
    "        for i in range(self.size):\n",
    "            for j in range(self.size):\n",
    "                e = self.energy(i, j)\n",
    "                E += e\n",
    "                E_2 += e**2\n",
    "\n",
    "        U = (1./self.size**2)*E\n",
    "        U_2 = (1./self.size**2)*E_2\n",
    "\n",
    "        return U, U_2\n",
    "\n",
    "    @property\n",
    "    def heat_capacity(self):\n",
    "        U, U_2 = self.internal_energy\n",
    "        return (U_2 - U**2)/(self.T)**2\n",
    "    \n",
    "    @property\n",
    "    def entropy(self):\n",
    "        N = self.size**2\n",
    "        Np = int((N+np.sum(self.system))/2)\n",
    "        return math.log(comb(N, Np, exact=True))/N\n",
    "\n",
    "    @property\n",
    "    def magnetization(self):\n",
    "        return np.abs(np.sum(self.system)/self.size**2)\n",
    "\n",
    "\n",
    "def run(lattice, epochs):\n",
    "    for epoch in tqdm(range(epochs)):\n",
    "        # Randomly select a site on the lattice\n",
    "        N, M = np.random.randint(0, lattice.size, 2)\n",
    "\n",
    "        # Calculate energy of a flipped spin\n",
    "        E = -1*lattice.energy(N, M)\n",
    "\n",
    "        # Apply Metropolis method\n",
    "        if E <= 0.:\n",
    "            lattice.system[N, M] *= -1\n",
    "        elif np.exp(-E/lattice.T) > np.random.rand():\n",
    "            lattice.system[N, M] *= -1\n",
    "    return lattice\n",
    "\n",
    "def main():\n",
    "    ## Pre-plotting\n",
    "    fig, ax = plt.subplots(nrows=1, ncols=3, figsize=[9,3], dpi=300)\n",
    "    fig.tight_layout(rect=[0, 0, 1, 0.95])\n",
    "    ax = ax.flatten()\n",
    "    ## Parameters\n",
    "    temperature = 1.0\n",
    "    T = [0.1, 2.269, 4]\n",
    "    initial_state = \"r\"\n",
    "    size = 100\n",
    "    epochs = 500000\n",
    "    for i in range(len(T)):\n",
    "        ## Running\n",
    "        lattice = IsingLattice(temperature=T[i], initial_state=initial_state, size=size)\n",
    "        lattice = run(lattice, epochs)\n",
    "        ## Post-plotting\n",
    "        ax[i].imshow(lattice.system, interpolation='nearest', cmap='jet')\n",
    "        ax[i].set_xlabel(\"T = %.3f\" %(T[i]), fontsize=15)\n",
    "        ax[i].tick_params(axis='both', which='major', labelsize=15)\n",
    "        ax[i].set_xlim([0,100])\n",
    "        ax[i].set_ylim([0,100])\n",
    "    \n",
    "    fig.suptitle(\"size = %dx%d\" %(size, size), fontsize=18)\n",
    "    fig.savefig(\"../data/fig/system-T.pdf\", bbox_inches='tight', pad_inches=0, dpi=300)\n",
    "    fig.savefig(\"../data/fig/system-T.png\", bbox_inches='tight', pad_inches=0, dpi=300)\n",
    "    plt.close()\n",
    "\n",
    "if __name__ == \"__main__\":\n",
    "    main()"
   ]
  },
  {
   "cell_type": "code",
   "execution_count": null,
   "metadata": {},
   "outputs": [],
   "source": []
  }
 ],
 "metadata": {
  "kernelspec": {
   "display_name": "Python 3",
   "language": "python",
   "name": "python3"
  },
  "language_info": {
   "codemirror_mode": {
    "name": "ipython",
    "version": 3
   },
   "file_extension": ".py",
   "mimetype": "text/x-python",
   "name": "python",
   "nbconvert_exporter": "python",
   "pygments_lexer": "ipython3",
   "version": "3.9.2"
  }
 },
 "nbformat": 4,
 "nbformat_minor": 4
}
