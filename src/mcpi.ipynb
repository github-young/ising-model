{
 "cells": [
  {
   "cell_type": "code",
   "execution_count": 26,
   "metadata": {
    "scrolled": false
   },
   "outputs": [
    {
     "name": "stdout",
     "output_type": "stream",
     "text": [
      "3.1418666666666666\n"
     ]
    }
   ],
   "source": [
    "import numpy as np\n",
    "import matplotlib.pyplot as pl\n",
    "pl.style.use(['science', 'no-latex'])\n",
    "\n",
    "def mcpi(N=1000):\n",
    "    points = np.random.uniform(0,1,(2,N))\n",
    "    pointsInsideIndex = np.where(np.sum(np.square(points), axis=0) <= 1)[0]\n",
    "    piEstimated = pointsInsideIndex.size / N * 4.0\n",
    "    return points, pointsInsideIndex, piEstimated, (piEstimated-np.pi)/np.pi\n",
    "    \n",
    "def main():\n",
    "    N = 30000\n",
    "    points, pointsInsideIndex, piEstimated, piError = mcpi(N)\n",
    "    while (abs(piError*100.0) > 0.02):\n",
    "        points, pointsInsideIndex, piEstimated, piError = mcpi(N)\n",
    "    print(piEstimated)\n",
    "    fig, ax = pl.subplots(figsize=[4,4], dpi=300)\n",
    "    ax.set_xlim([0,1])\n",
    "    ax.set_ylim([0,1])\n",
    "    ax.grid()    \n",
    "    ax.set_title(r\"Point number = %d, $\\pi_e \\approx$ %.4f, error = %.3f%%\" %(N, piEstimated, piError*100.0), fontsize=15)\n",
    "    ax.plot(points[0][pointsInsideIndex], points[1][pointsInsideIndex], 'r.', markersize=0.5)\n",
    "    ax.plot(np.delete(points[0], pointsInsideIndex), np.delete(points[1], pointsInsideIndex), 'b.', markersize=0.4)\n",
    "#     fig.show()\n",
    "    fig.savefig(\"../data/fig/piEstimation.png\", bbox_inches='tight', pad_inches=0, dpi=300)\n",
    "    fig.savefig(\"../data/fig/piEstimation.pdf\", bbox_inches='tight', pad_inches=0, dpi=300)\n",
    "    pl.close()\n",
    "\n",
    "if __name__ == \"__main__\":\n",
    "    main()"
   ]
  },
  {
   "cell_type": "code",
   "execution_count": null,
   "metadata": {},
   "outputs": [],
   "source": []
  },
  {
   "cell_type": "code",
   "execution_count": null,
   "metadata": {},
   "outputs": [],
   "source": []
  }
 ],
 "metadata": {
  "kernelspec": {
   "display_name": "Python 3",
   "language": "python",
   "name": "python3"
  },
  "language_info": {
   "codemirror_mode": {
    "name": "ipython",
    "version": 3
   },
   "file_extension": ".py",
   "mimetype": "text/x-python",
   "name": "python",
   "nbconvert_exporter": "python",
   "pygments_lexer": "ipython3",
   "version": "3.9.2"
  }
 },
 "nbformat": 4,
 "nbformat_minor": 4
}
